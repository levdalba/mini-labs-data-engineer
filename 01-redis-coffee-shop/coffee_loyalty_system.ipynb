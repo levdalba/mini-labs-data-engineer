{
 "cells": [
  {
   "cell_type": "markdown",
   "id": "7ad3b3b1",
   "metadata": {},
   "source": [
    "# Coffee Shop Loyalty System with Redis\n",
    "\n",
    "This notebook demonstrates how to build a simple loyalty system for a coffee shop using Redis as the backend storage. We'll cover customer management, visit tracking, and temporary discount codes."
   ]
  },
  {
   "cell_type": "markdown",
   "id": "34ba7781",
   "metadata": {},
   "source": [
    "## Setup Redis Connection\n",
    "\n",
    "First, ensure Redis is running using the provided docker-compose.yml:\n",
    "```bash\n",
    "docker-compose up -d\n",
    "```"
   ]
  },
  {
   "cell_type": "code",
   "execution_count": 1,
   "id": "fe9da009",
   "metadata": {},
   "outputs": [
    {
     "name": "stdout",
     "output_type": "stream",
     "text": [
      "Connected to Redis. Database cleared.\n"
     ]
    }
   ],
   "source": [
    "from redis import Redis\n",
    "import time\n",
    "\n",
    "r = Redis(host=\"localhost\", port=6379, decode_responses=True)\n",
    "r.flushdb()\n",
    "print(\"Connected to Redis. Database cleared.\")"
   ]
  },
  {
   "cell_type": "markdown",
   "id": "b5e3e979",
   "metadata": {},
   "source": [
    "## Store Customer Information\n",
    "\n",
    "Redis uses key-value pairs to store data. We'll use the pattern `customer:name` for keys."
   ]
  },
  {
   "cell_type": "code",
   "execution_count": 2,
   "id": "b227846a",
   "metadata": {},
   "outputs": [
    {
     "name": "stdout",
     "output_type": "stream",
     "text": [
      "Customer -> Alice Johnson\n",
      "Customer -> Bob Smith\n"
     ]
    }
   ],
   "source": [
    "r.set(\"customer:alice\", \"Alice Johnson\")\n",
    "print(\"Customer ->\", r.get(\"customer:alice\"))\n",
    "\n",
    "r.set(\"customer:bob\", \"Bob Smith\")\n",
    "print(\"Customer ->\", r.get(\"customer:bob\"))"
   ]
  },
  {
   "cell_type": "markdown",
   "id": "a5183f44",
   "metadata": {},
   "source": [
    "## Track Customer Visits\n",
    "\n",
    "Redis INCR command automatically creates keys and increments counters."
   ]
  },
  {
   "cell_type": "code",
   "execution_count": 3,
   "id": "b29491c8",
   "metadata": {},
   "outputs": [
    {
     "name": "stdout",
     "output_type": "stream",
     "text": [
      "Alice visits before increment: None\n",
      "First visit -> 1\n",
      "Second visit -> 2\n",
      "Third visit -> 3\n",
      "Current visit count: 3\n"
     ]
    }
   ],
   "source": [
    "print(\"Alice visits before increment:\", r.get(\"visits:alice\"))\n",
    "print(\"First visit ->\", r.incr(\"visits:alice\"))\n",
    "print(\"Second visit ->\", r.incr(\"visits:alice\"))\n",
    "print(\"Third visit ->\", r.incr(\"visits:alice\"))\n",
    "print(\"Current visit count:\", r.get(\"visits:alice\"))"
   ]
  },
  {
   "cell_type": "markdown",
   "id": "7d9833b8",
   "metadata": {},
   "source": [
    "## Generate Temporary Discount Codes\n",
    "\n",
    "Create discount codes with TTL (time-to-live) that automatically expire."
   ]
  },
  {
   "cell_type": "code",
   "execution_count": 4,
   "id": "eb6f45fd",
   "metadata": {},
   "outputs": [
    {
     "name": "stdout",
     "output_type": "stream",
     "text": [
      "Discount code -> SAVE10\n",
      "TTL (seconds remaining) -> 10\n",
      "After 3 seconds:\n",
      "Discount code -> SAVE10\n",
      "TTL -> 7\n"
     ]
    }
   ],
   "source": [
    "r.set(\"discount:alice\", \"SAVE10\", ex=10)\n",
    "print(\"Discount code ->\", r.get(\"discount:alice\"))\n",
    "print(\"TTL (seconds remaining) ->\", r.ttl(\"discount:alice\"))\n",
    "\n",
    "time.sleep(3)\n",
    "print(\"After 3 seconds:\")\n",
    "print(\"Discount code ->\", r.get(\"discount:alice\"))\n",
    "print(\"TTL ->\", r.ttl(\"discount:alice\"))"
   ]
  },
  {
   "cell_type": "markdown",
   "id": "791aa3ca",
   "metadata": {},
   "source": [
    "## Customer Lookup Functions\n",
    "\n",
    "Build helper functions for customer management."
   ]
  },
  {
   "cell_type": "code",
   "execution_count": 5,
   "id": "08198693",
   "metadata": {},
   "outputs": [
    {
     "name": "stdout",
     "output_type": "stream",
     "text": [
      "Registered: Charlie Brown\n",
      "Customer exists: True\n",
      "Customer name: Charlie Brown\n"
     ]
    }
   ],
   "source": [
    "def register_customer(customer_id, full_name):\n",
    "    key = f\"customer:{customer_id}\"\n",
    "    r.set(key, full_name)\n",
    "    return f\"Registered: {full_name}\"\n",
    "\n",
    "def get_customer(customer_id):\n",
    "    key = f\"customer:{customer_id}\"\n",
    "    return r.get(key)\n",
    "\n",
    "def customer_exists(customer_id):\n",
    "    key = f\"customer:{customer_id}\"\n",
    "    return r.exists(key) == 1\n",
    "\n",
    "print(register_customer(\"charlie\", \"Charlie Brown\"))\n",
    "print(\"Customer exists:\", customer_exists(\"charlie\"))\n",
    "print(\"Customer name:\", get_customer(\"charlie\"))"
   ]
  },
  {
   "cell_type": "markdown",
   "id": "6b4de0fa",
   "metadata": {},
   "source": [
    "## Visit Counter Management\n",
    "\n",
    "Functions to manage customer visit tracking and rewards."
   ]
  },
  {
   "cell_type": "code",
   "execution_count": 6,
   "id": "e7bcb9d4",
   "metadata": {},
   "outputs": [
    {
     "name": "stdout",
     "output_type": "stream",
     "text": [
      "Charlie's visits: 1\n",
      "Charlie's visits: 2\n",
      "Charlie's visits: 3\n",
      "Total visits: 3\n",
      "Eligible for reward: True\n"
     ]
    }
   ],
   "source": [
    "def record_visit(customer_id):\n",
    "    key = f\"visits:{customer_id}\"\n",
    "    visits = r.incr(key)\n",
    "    return visits\n",
    "\n",
    "def get_visit_count(customer_id):\n",
    "    key = f\"visits:{customer_id}\"\n",
    "    count = r.get(key)\n",
    "    return int(count) if count else 0\n",
    "\n",
    "def is_eligible_for_reward(customer_id, threshold=5):\n",
    "    return get_visit_count(customer_id) >= threshold\n",
    "\n",
    "print(\"Charlie's visits:\", record_visit(\"charlie\"))\n",
    "print(\"Charlie's visits:\", record_visit(\"charlie\"))\n",
    "print(\"Charlie's visits:\", record_visit(\"charlie\"))\n",
    "print(\"Total visits:\", get_visit_count(\"charlie\"))\n",
    "print(\"Eligible for reward:\", is_eligible_for_reward(\"charlie\", 3))"
   ]
  },
  {
   "cell_type": "markdown",
   "id": "e296c99d",
   "metadata": {},
   "source": [
    "## Discount Code Validation\n",
    "\n",
    "Functions to create and validate temporary discount codes."
   ]
  },
  {
   "cell_type": "code",
   "execution_count": 7,
   "id": "a9470f15",
   "metadata": {},
   "outputs": [
    {
     "name": "stdout",
     "output_type": "stream",
     "text": [
      "Generated code SAVE15 for charlie, expires in 30s\n",
      "Validation: {'valid': True, 'code': 'SAVE15', 'ttl': 30}\n",
      "After 2 seconds: {'valid': True, 'code': 'SAVE15', 'ttl': 28}\n"
     ]
    }
   ],
   "source": [
    "def generate_discount_code(customer_id, code, expiry_seconds=60):\n",
    "    key = f\"discount:{customer_id}\"\n",
    "    r.set(key, code, ex=expiry_seconds)\n",
    "    return f\"Generated code {code} for {customer_id}, expires in {expiry_seconds}s\"\n",
    "\n",
    "def validate_discount_code(customer_id):\n",
    "    key = f\"discount:{customer_id}\"\n",
    "    code = r.get(key)\n",
    "    ttl = r.ttl(key)\n",
    "    \n",
    "    if code is None:\n",
    "        return {\"valid\": False, \"message\": \"No discount code found\"}\n",
    "    if ttl == -2:\n",
    "        return {\"valid\": False, \"message\": \"Code has expired\"}\n",
    "    \n",
    "    return {\"valid\": True, \"code\": code, \"ttl\": ttl}\n",
    "\n",
    "def redeem_discount_code(customer_id):\n",
    "    key = f\"discount:{customer_id}\"\n",
    "    code = r.get(key)\n",
    "    if code:\n",
    "        r.delete(key)\n",
    "        return f\"Redeemed code: {code}\"\n",
    "    return \"No valid code to redeem\"\n",
    "\n",
    "print(generate_discount_code(\"charlie\", \"SAVE15\", 30))\n",
    "print(\"Validation:\", validate_discount_code(\"charlie\"))\n",
    "time.sleep(2)\n",
    "print(\"After 2 seconds:\", validate_discount_code(\"charlie\"))"
   ]
  },
  {
   "cell_type": "markdown",
   "id": "b0344205",
   "metadata": {},
   "source": [
    "## Complete Loyalty System Demo\n",
    "\n",
    "Demonstrate the complete workflow with multiple customers."
   ]
  },
  {
   "cell_type": "code",
   "execution_count": 8,
   "id": "f010cad6",
   "metadata": {},
   "outputs": [
    {
     "name": "stdout",
     "output_type": "stream",
     "text": [
      "\n",
      "--- Diana Prince Workflow ---\n",
      "Registered: Diana Prince\n",
      "Visit recorded. Total visits: 1\n",
      "\n",
      "--- Diana Prince Workflow ---\n",
      "Visit recorded. Total visits: 2\n",
      "Generated code LOYALTY20 for diana, expires in 45s\n",
      "Code validation: {'valid': True, 'code': 'LOYALTY20', 'ttl': 45}\n",
      "\n",
      "--- Bruce Wayne Workflow ---\n",
      "Registered: Bruce Wayne\n",
      "Visit recorded. Total visits: 1\n",
      "\n",
      "--- Bruce Wayne Workflow ---\n",
      "Visit recorded. Total visits: 2\n",
      "Generated code LOYALTY20 for bruce, expires in 45s\n",
      "Code validation: {'valid': True, 'code': 'LOYALTY20', 'ttl': 45}\n",
      "\n",
      "--- Clark Kent Workflow ---\n",
      "Registered: Clark Kent\n",
      "Visit recorded. Total visits: 1\n",
      "\n",
      "--- Clark Kent Workflow ---\n",
      "Visit recorded. Total visits: 2\n",
      "Generated code LOYALTY20 for clark, expires in 45s\n",
      "Code validation: {'valid': True, 'code': 'LOYALTY20', 'ttl': 45}\n",
      "\n",
      "--- Final Status ---\n",
      "Diana Prince: 2 visits, Discount: True\n",
      "Bruce Wayne: 2 visits, Discount: True\n",
      "Clark Kent: 2 visits, Discount: True\n"
     ]
    }
   ],
   "source": [
    "def complete_customer_workflow(customer_id, full_name):\n",
    "    print(f\"\\n--- {full_name} Workflow ---\")\n",
    "    \n",
    "    if not customer_exists(customer_id):\n",
    "        print(register_customer(customer_id, full_name))\n",
    "    \n",
    "    visits = record_visit(customer_id)\n",
    "    print(f\"Visit recorded. Total visits: {visits}\")\n",
    "    \n",
    "    if is_eligible_for_reward(customer_id, 2):\n",
    "        print(generate_discount_code(customer_id, \"LOYALTY20\", 45))\n",
    "        validation = validate_discount_code(customer_id)\n",
    "        print(f\"Code validation: {validation}\")\n",
    "    \n",
    "    return get_visit_count(customer_id)\n",
    "\n",
    "customers = [\n",
    "    (\"diana\", \"Diana Prince\"),\n",
    "    (\"bruce\", \"Bruce Wayne\"),\n",
    "    (\"clark\", \"Clark Kent\")\n",
    "]\n",
    "\n",
    "for customer_id, name in customers:\n",
    "    complete_customer_workflow(customer_id, name)\n",
    "    complete_customer_workflow(customer_id, name)\n",
    "\n",
    "print(\"\\n--- Final Status ---\")\n",
    "for customer_id, name in customers:\n",
    "    visits = get_visit_count(customer_id)\n",
    "    validation = validate_discount_code(customer_id)\n",
    "    print(f\"{name}: {visits} visits, Discount: {validation.get('valid', False)}\")"
   ]
  }
 ],
 "metadata": {
  "kernelspec": {
   "display_name": ".venv (3.13.7)",
   "language": "python",
   "name": "python3"
  },
  "language_info": {
   "codemirror_mode": {
    "name": "ipython",
    "version": 3
   },
   "file_extension": ".py",
   "mimetype": "text/x-python",
   "name": "python",
   "nbconvert_exporter": "python",
   "pygments_lexer": "ipython3",
   "version": "3.13.7"
  }
 },
 "nbformat": 4,
 "nbformat_minor": 5
}
