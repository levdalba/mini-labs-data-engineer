{
 "cells": [
  {
   "cell_type": "markdown",
   "id": "6ad84692",
   "metadata": {},
   "source": [
    "# Star Wars Analytics with DuckDB\n",
    "\n",
    "Explore the Star Wars universe using DuckDB for fast analytical queries, joins, and data export to Parquet format."
   ]
  },
  {
   "cell_type": "markdown",
   "id": "6093462d",
   "metadata": {},
   "source": [
    "## Connect to DuckDB\n",
    "\n",
    "Create an in-memory database for quick analysis."
   ]
  },
  {
   "cell_type": "code",
   "execution_count": 1,
   "id": "3424fd9e",
   "metadata": {},
   "outputs": [
    {
     "name": "stdout",
     "output_type": "stream",
     "text": [
      "Connected to DuckDB in-memory database\n"
     ]
    }
   ],
   "source": [
    "import duckdb\n",
    "\n",
    "con = duckdb.connect(database=\":memory:\")\n",
    "print(\"Connected to DuckDB in-memory database\")"
   ]
  },
  {
   "cell_type": "markdown",
   "id": "da970068",
   "metadata": {},
   "source": [
    "## Create Star Wars Tables\n",
    "\n",
    "Set up characters and planets tables with sample data."
   ]
  },
  {
   "cell_type": "code",
   "execution_count": 2,
   "id": "0401a4de",
   "metadata": {},
   "outputs": [
    {
     "name": "stdout",
     "output_type": "stream",
     "text": [
      "Tables created and seeded with Star Wars data\n"
     ]
    }
   ],
   "source": [
    "con.execute(\"\"\"\n",
    "CREATE TABLE characters(\n",
    "  name VARCHAR,\n",
    "  affiliation VARCHAR,\n",
    "  species VARCHAR,\n",
    "  homeworld VARCHAR,\n",
    "  midichlorians INTEGER\n",
    ");\n",
    "\"\"\")\n",
    "\n",
    "con.execute(\"\"\"\n",
    "INSERT INTO characters VALUES\n",
    "  ('Luke Skywalker','Jedi','Human','Tatooine',15000),\n",
    "  ('Leia Organa','Rebel','Human','Alderaan',4000),\n",
    "  ('Han Solo','Rebel','Human','Corellia',3000),\n",
    "  ('Darth Vader','Sith','Human','Tatooine',20000),\n",
    "  ('Yoda','Jedi','Unknown','Dagobah',17500),\n",
    "  ('Obi-Wan Kenobi','Jedi','Human','Stewjon',16000),\n",
    "  ('Emperor Palpatine','Sith','Human','Naboo',19000);\n",
    "\"\"\")\n",
    "\n",
    "con.execute(\"\"\"\n",
    "CREATE TABLE planets(\n",
    "  name VARCHAR,\n",
    "  climate VARCHAR,\n",
    "  region VARCHAR\n",
    ");\n",
    "\"\"\")\n",
    "\n",
    "con.execute(\"\"\"\n",
    "INSERT INTO planets VALUES\n",
    "  ('Tatooine','desert','Outer Rim'),\n",
    "  ('Alderaan','temperate','Core'),\n",
    "  ('Corellia','temperate','Core'),\n",
    "  ('Dagobah','swamp','Outer Rim'),\n",
    "  ('Stewjon','temperate','Unknown'),\n",
    "  ('Naboo','temperate','Mid Rim'),\n",
    "  ('Coruscant','urban','Core');\n",
    "\"\"\")\n",
    "\n",
    "print(\"Tables created and seeded with Star Wars data\")"
   ]
  },
  {
   "cell_type": "markdown",
   "id": "e18a3d22",
   "metadata": {},
   "source": [
    "## Basic Queries and Filtering\n",
    "\n",
    "Explore the data with SELECT statements and filters."
   ]
  },
  {
   "cell_type": "code",
   "execution_count": 3,
   "id": "cf17dee9",
   "metadata": {},
   "outputs": [
    {
     "name": "stdout",
     "output_type": "stream",
     "text": [
      "All characters:\n",
      "[('Luke Skywalker', 'Jedi', 'Human', 'Tatooine', 15000), ('Leia Organa', 'Rebel', 'Human', 'Alderaan', 4000), ('Han Solo', 'Rebel', 'Human', 'Corellia', 3000), ('Darth Vader', 'Sith', 'Human', 'Tatooine', 20000), ('Yoda', 'Jedi', 'Unknown', 'Dagobah', 17500)]\n",
      "\n",
      "Jedi characters (sorted by midichlorians):\n",
      "[('Yoda', 'Dagobah', 17500), ('Obi-Wan Kenobi', 'Stewjon', 16000), ('Luke Skywalker', 'Tatooine', 15000)]\n",
      "\n",
      "Characters with 'sky' in their name:\n",
      "[('Luke Skywalker', 'Jedi')]\n"
     ]
    }
   ],
   "source": [
    "print(\"All characters:\")\n",
    "print(con.execute(\"SELECT * FROM characters LIMIT 5\").fetchall())\n",
    "\n",
    "print(\"\\nJedi characters (sorted by midichlorians):\")\n",
    "print(con.execute(\"\"\"\n",
    "  SELECT name, homeworld, midichlorians\n",
    "  FROM characters\n",
    "  WHERE affiliation = 'Jedi'\n",
    "  ORDER BY midichlorians DESC\n",
    "\"\"\").fetchall())\n",
    "\n",
    "print(\"\\nCharacters with 'sky' in their name:\")\n",
    "print(con.execute(\"\"\"\n",
    "  SELECT name, affiliation\n",
    "  FROM characters\n",
    "  WHERE name ILIKE '%sky%'\n",
    "\"\"\").fetchall())"
   ]
  },
  {
   "cell_type": "markdown",
   "id": "7dbfc255",
   "metadata": {},
   "source": [
    "## Aggregations and Grouping\n",
    "\n",
    "Analyze data patterns using GROUP BY operations."
   ]
  },
  {
   "cell_type": "code",
   "execution_count": 4,
   "id": "758622ba",
   "metadata": {},
   "outputs": [
    {
     "name": "stdout",
     "output_type": "stream",
     "text": [
      "Count by affiliation:\n",
      "[('Jedi', 3), ('Rebel', 2), ('Sith', 2)]\n",
      "\n",
      "Average midichlorians by affiliation:\n",
      "[('Sith', 19500), ('Jedi', 16167), ('Rebel', 3500)]\n"
     ]
    }
   ],
   "source": [
    "print(\"Count by affiliation:\")\n",
    "print(con.execute(\"\"\"\n",
    "  SELECT affiliation, COUNT(*) AS character_count\n",
    "  FROM characters\n",
    "  GROUP BY affiliation\n",
    "  ORDER BY character_count DESC\n",
    "\"\"\").fetchall())\n",
    "\n",
    "print(\"\\nAverage midichlorians by affiliation:\")\n",
    "print(con.execute(\"\"\"\n",
    "  SELECT affiliation, AVG(midichlorians)::INTEGER AS avg_midichlorians\n",
    "  FROM characters\n",
    "  GROUP BY affiliation\n",
    "  ORDER BY avg_midichlorians DESC\n",
    "\"\"\").fetchall())"
   ]
  },
  {
   "cell_type": "markdown",
   "id": "97d71123",
   "metadata": {},
   "source": [
    "## JOIN Operations\n",
    "\n",
    "Combine characters and planets data for enriched analysis."
   ]
  },
  {
   "cell_type": "code",
   "execution_count": 5,
   "id": "f10ee915",
   "metadata": {},
   "outputs": [
    {
     "name": "stdout",
     "output_type": "stream",
     "text": [
      "Characters with planet information:\n",
      "[('Darth Vader', 'Sith', 'Tatooine', 'desert', 'Outer Rim'), ('Emperor Palpatine', 'Sith', 'Naboo', 'temperate', 'Mid Rim'), ('Han Solo', 'Rebel', 'Corellia', 'temperate', 'Core'), ('Leia Organa', 'Rebel', 'Alderaan', 'temperate', 'Core'), ('Luke Skywalker', 'Jedi', 'Tatooine', 'desert', 'Outer Rim'), ('Obi-Wan Kenobi', 'Jedi', 'Stewjon', 'temperate', 'Unknown'), ('Yoda', 'Jedi', 'Dagobah', 'swamp', 'Outer Rim')]\n",
      "\n",
      "Character count by planet climate:\n",
      "[('temperate', 4), ('desert', 2), ('swamp', 1)]\n"
     ]
    }
   ],
   "source": [
    "print(\"Characters with planet information:\")\n",
    "print(con.execute(\"\"\"\n",
    "  SELECT c.name, c.affiliation, c.homeworld, p.climate, p.region\n",
    "  FROM characters c\n",
    "  LEFT JOIN planets p ON c.homeworld = p.name\n",
    "  ORDER BY c.name\n",
    "\"\"\").fetchall())\n",
    "\n",
    "print(\"\\nCharacter count by planet climate:\")\n",
    "print(con.execute(\"\"\"\n",
    "  SELECT p.climate, COUNT(*) AS character_count\n",
    "  FROM characters c\n",
    "  JOIN planets p ON c.homeworld = p.name\n",
    "  GROUP BY p.climate\n",
    "  ORDER BY character_count DESC\n",
    "\"\"\").fetchall())"
   ]
  },
  {
   "cell_type": "markdown",
   "id": "818321f1",
   "metadata": {},
   "source": [
    "## Export to Parquet and Query Files\n",
    "\n",
    "Save query results to Parquet format and query them directly."
   ]
  },
  {
   "cell_type": "code",
   "execution_count": 6,
   "id": "db8bb829",
   "metadata": {},
   "outputs": [
    {
     "name": "stdout",
     "output_type": "stream",
     "text": [
      "Jedi data exported to jedi.parquet\n",
      "\n",
      "Querying Parquet file directly:\n",
      "[('Yoda', 'Dagobah', 17500), ('Obi-Wan Kenobi', 'Stewjon', 16000), ('Luke Skywalker', 'Tatooine', 15000)]\n",
      "\n",
      "Characters with planets exported to characters_with_planets.parquet\n",
      "File contents:\n",
      "[('Luke Skywalker', 'Jedi', 'desert', 'Outer Rim'), ('Leia Organa', 'Rebel', 'temperate', 'Core'), ('Han Solo', 'Rebel', 'temperate', 'Core'), ('Darth Vader', 'Sith', 'desert', 'Outer Rim'), ('Yoda', 'Jedi', 'swamp', 'Outer Rim'), ('Obi-Wan Kenobi', 'Jedi', 'temperate', 'Unknown'), ('Emperor Palpatine', 'Sith', 'temperate', 'Mid Rim')]\n"
     ]
    }
   ],
   "source": [
    "con.execute(\"\"\"\n",
    "  COPY (\n",
    "    SELECT name, homeworld, midichlorians\n",
    "    FROM characters\n",
    "    WHERE affiliation = 'Jedi'\n",
    "  ) TO 'jedi.parquet' (FORMAT 'parquet');\n",
    "\"\"\")\n",
    "\n",
    "print(\"Jedi data exported to jedi.parquet\")\n",
    "\n",
    "print(\"\\nQuerying Parquet file directly:\")\n",
    "print(con.execute(\"SELECT * FROM 'jedi.parquet' ORDER BY midichlorians DESC\").fetchall())\n",
    "\n",
    "con.execute(\"\"\"\n",
    "  COPY (\n",
    "    SELECT c.name, c.affiliation, p.climate, p.region\n",
    "    FROM characters c\n",
    "    JOIN planets p ON c.homeworld = p.name\n",
    "  ) TO 'characters_with_planets.parquet' (FORMAT 'parquet');\n",
    "\"\"\")\n",
    "\n",
    "print(\"\\nCharacters with planets exported to characters_with_planets.parquet\")\n",
    "print(\"File contents:\")\n",
    "print(con.execute(\"SELECT * FROM 'characters_with_planets.parquet'\").fetchall())"
   ]
  }
 ],
 "metadata": {
  "kernelspec": {
   "display_name": ".venv (3.13.7)",
   "language": "python",
   "name": "python3"
  },
  "language_info": {
   "codemirror_mode": {
    "name": "ipython",
    "version": 3
   },
   "file_extension": ".py",
   "mimetype": "text/x-python",
   "name": "python",
   "nbconvert_exporter": "python",
   "pygments_lexer": "ipython3",
   "version": "3.13.7"
  }
 },
 "nbformat": 4,
 "nbformat_minor": 5
}
